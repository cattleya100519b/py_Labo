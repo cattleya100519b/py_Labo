{
 "cells": [
  {
   "cell_type": "markdown",
   "id": "71560f5f",
   "metadata": {},
   "source": [
    "## CPU vs GPGPU"
   ]
  },
  {
   "cell_type": "code",
   "execution_count": 2,
   "id": "0b65150b",
   "metadata": {},
   "outputs": [
    {
     "name": "stdout",
     "output_type": "stream",
     "text": [
      "mps\n"
     ]
    }
   ],
   "source": [
    "from common import get_device\n",
    "print(device := get_device())"
   ]
  },
  {
   "cell_type": "code",
   "execution_count": 8,
   "id": "70c41fec",
   "metadata": {},
   "outputs": [
    {
     "name": "stdout",
     "output_type": "stream",
     "text": [
      "cpu: 1.099e-01 秒\n",
      "mps:0: 1.869e-04 秒\n"
     ]
    }
   ],
   "source": [
    "import torch\n",
    "import time\n",
    "\n",
    "# 行列サイズ\n",
    "M, K, N = 4096, 4096, 4096\n",
    "\n",
    "# CPU用のランダム行列\n",
    "A_cpu = torch.randn(M, K)\n",
    "B_cpu = torch.randn(K, N)\n",
    "\n",
    "# GPU用のランダム行列（もしGPUなければCPUで計測）\n",
    "A_gpu = A_cpu.to(device)\n",
    "B_gpu = B_cpu.to(device)\n",
    "\n",
    "# CPUで計測\n",
    "start = time.time()\n",
    "C_cpu = torch.matmul(A_cpu, B_cpu)\n",
    "end = time.time()\n",
    "print(f\"{A_cpu.device}: {end - start:.3e} 秒\")\n",
    "\n",
    "# GPUで計測\n",
    "if torch.cuda.is_available():\n",
    "    torch.cuda.synchronize()  # GPU計測前に同期\n",
    "start = time.time()\n",
    "C_gpu = torch.matmul(A_gpu, B_gpu)\n",
    "if torch.cuda.is_available():\n",
    "    torch.cuda.synchronize()  # GPU計測後に同期\n",
    "end = time.time()\n",
    "print(f\"{A_gpu.device}: {end - start:.3e} 秒\")"
   ]
  }
 ],
 "metadata": {
  "kernelspec": {
   "display_name": ".venv",
   "language": "python",
   "name": "python3"
  },
  "language_info": {
   "codemirror_mode": {
    "name": "ipython",
    "version": 3
   },
   "file_extension": ".py",
   "mimetype": "text/x-python",
   "name": "python",
   "nbconvert_exporter": "python",
   "pygments_lexer": "ipython3",
   "version": "3.13.7"
  }
 },
 "nbformat": 4,
 "nbformat_minor": 5
}
