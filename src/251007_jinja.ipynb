{
 "cells": [
  {
   "cell_type": "markdown",
   "id": "0d01536b",
   "metadata": {},
   "source": [
    "## Jinja2 サンプル（静的HTML）"
   ]
  },
  {
   "cell_type": "code",
   "execution_count": 1,
   "id": "201dac60",
   "metadata": {},
   "outputs": [
    {
     "name": "stdout",
     "output_type": "stream",
     "text": [
      "✅ output/report.html を生成しました\n"
     ]
    }
   ],
   "source": [
    "import csv\n",
    "from pathlib import Path\n",
    "from jinja2 import Environment, FileSystemLoader\n",
    "\n",
    "# CSV読み込み\n",
    "data = []\n",
    "with open(\"data/sample_jinja.csv\", encoding=\"utf-8\") as f:\n",
    "    reader = csv.DictReader(f)\n",
    "    for row in reader:\n",
    "        row[\"size\"] = int(row[\"size\"])  # 必要に応じて型変換\n",
    "        data.append(row)\n",
    "\n",
    "# Jinja環境\n",
    "env = Environment(loader=FileSystemLoader(\"templates\"))\n",
    "template = env.get_template(\"report.html\")\n",
    "\n",
    "context = {\n",
    "    \"title\": \"CSVレポート\",\n",
    "    \"files\": data\n",
    "}\n",
    "\n",
    "# HTML生成\n",
    "output = template.render(context)\n",
    "\n",
    "# 出力\n",
    "Path(\"output\").mkdir(exist_ok=True)\n",
    "Path(\"output/report.html\").write_text(output, encoding=\"utf-8\")\n",
    "\n",
    "print(\"✅ output/report.html を生成しました\")"
   ]
  },
  {
   "cell_type": "markdown",
   "id": "97e722aa",
   "metadata": {},
   "source": [
    "## 解説"
   ]
  },
  {
   "cell_type": "markdown",
   "id": "31da756c",
   "metadata": {},
   "source": [
    "### そもそもの動機\n",
    "- オフライン環境かつHTTP通信無しで、html生成をしてみる（file write のhtmlベタガキを変える。）"
   ]
  },
  {
   "cell_type": "markdown",
   "id": "dfb61b03",
   "metadata": {},
   "source": [
    "### ディレクトリ構成\n",
    "- src/\n",
    "  - generate.py (ipynb)\n",
    "  - data/\n",
    "    - data.csv\n",
    "  - templates/\n",
    "    - base.html\n",
    "    - report.html\n",
    "  - static/\n",
    "    - style.css\n",
    "    - main.js\n",
    "  - output/\n",
    "    - report.html\n",
    "\n",
    "この構成のメリットは以下の通り：\n",
    "\n",
    "|ディレクトリ/ファイル|役割|メリット|\n",
    "|-|-|-|\n",
    "|templates/|HTMLテンプレート|分離・共通レイアウト管理が容易|\n",
    "|static/|CSS/JS/画像など|HTMLから簡単に参照可能、外部依存不要|\n",
    "|output/|生成HTML|ソースと生成物を分離、整理しやすい|\n",
    "|generate.py|データ → HTML生成|再生成が簡単、一箇所で責務集中|\n",
    "\n",
    "- 慣習的理由:\n",
    "- Flask/Django/静的サイトジェネレータと同じ考え方\n",
    "- 小規模でも整理されていて保守性が高い\n",
    "- 拡張時も迷わない（画像を追加 → static/、新ページ → templates/）"
   ]
  }
 ],
 "metadata": {
  "kernelspec": {
   "display_name": ".venv",
   "language": "python",
   "name": "python3"
  },
  "language_info": {
   "codemirror_mode": {
    "name": "ipython",
    "version": 3
   },
   "file_extension": ".py",
   "mimetype": "text/x-python",
   "name": "python",
   "nbconvert_exporter": "python",
   "pygments_lexer": "ipython3",
   "version": "3.13.7"
  }
 },
 "nbformat": 4,
 "nbformat_minor": 5
}
