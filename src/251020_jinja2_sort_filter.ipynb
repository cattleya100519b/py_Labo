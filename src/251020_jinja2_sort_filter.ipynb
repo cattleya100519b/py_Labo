{
 "cells": [
  {
   "cell_type": "markdown",
   "id": "05ebe5c0",
   "metadata": {},
   "source": [
    "## 要件\n",
    "- 一行目にソートボタン\n",
    "- 二行目にフィルターブロック\n",
    "  - 選択式のドロップダウン\n",
    "  - 値範囲指定の入力ボックス\n",
    "- Pythonからデータを埋め込み\n",
    "- 出力HTMLは独立（他を参照せず、css, jsが埋め込まれている）"
   ]
  },
  {
   "cell_type": "markdown",
   "id": "c4f1e9f7",
   "metadata": {},
   "source": [
    "<pre>\n",
    "project/  \n",
    "├─ data_to_html.py      ← Pythonスクリプト（Jinja2でHTML生成）  \n",
    "├─ templates/  \n",
    "│   ├─ base_251020.html ← Jinja2テンプレート\n",
    "│   └─ table.html\n",
    "├─ static/  \n",
    "│   ├─ style/  \n",
    "│   │   ├─ table.css  \n",
    "│   │   ├─ filter.css  \n",
    "│   │   └─ sort.css  \n",
    "│   └─ js/  \n",
    "│       └─ table.js  \n",
    "└─ output/\n",
    "     └─ table.html          ← Pythonで生成されるブラウザ用HTML\n",
    "</pre>"
   ]
  },
  {
   "cell_type": "code",
   "execution_count": 9,
   "id": "03507159",
   "metadata": {},
   "outputs": [
    {
     "name": "stdout",
     "output_type": "stream",
     "text": [
      "✅ 出力完了: /Users/cattleya/Documents/GitHub/py_Labo/src/output/table.html\n"
     ]
    }
   ],
   "source": [
    "from jinja2 import Environment, FileSystemLoader\n",
    "from pathlib import Path\n",
    "\n",
    "# --- ディレクトリ設定 ---\n",
    "try:\n",
    "    BASE_DIR = Path(__file__).resolve().parent\n",
    "except NameError:\n",
    "    BASE_DIR = Path.cwd()\n",
    "\n",
    "TEMPLATE_DIR = BASE_DIR / \"templates\"\n",
    "STATIC_DIR = BASE_DIR / \"static\"\n",
    "OUTPUT_DIR = BASE_DIR / \"output\"\n",
    "\n",
    "OUTPUT_DIR.mkdir(exist_ok=True)\n",
    "\n",
    "# --- CSSとJSをまとめて埋め込み ---\n",
    "def load_static_files():\n",
    "    css_dir = STATIC_DIR / \"style\"\n",
    "    js_dir = STATIC_DIR / \"js\"\n",
    "\n",
    "    # 複数CSSを結合\n",
    "    embedded_css = \"\"\n",
    "    for css_file in sorted(css_dir.glob(\"*.css\")):\n",
    "        embedded_css += f\"\\n/* === {css_file.name} === */\\n\"\n",
    "        embedded_css += css_file.read_text(encoding=\"utf-8\")\n",
    "\n",
    "    # 複数JSを結合\n",
    "    embedded_js = \"\"\n",
    "    for js_file in sorted(js_dir.glob(\"*.js\")):\n",
    "        embedded_js += f\"\\n// === {js_file.name} ===\\n\"\n",
    "        embedded_js += js_file.read_text(encoding=\"utf-8\")\n",
    "\n",
    "    return embedded_css, embedded_js\n",
    "\n",
    "# --- データ定義 ---\n",
    "data = [\n",
    "    {\"name\": \"tanaka\", \"age\": 28, \"city\": \"tokyo\"},\n",
    "    {\"name\": \"takahashi\", \"age\": 40, \"city\": \"osaka\"},\n",
    "    {\"name\": \"satou\", \"age\": 34, \"city\": \"osaka\"},\n",
    "    {\"name\": \"suzuki\", \"age\": 22, \"city\": \"nagoya\"},\n",
    "    {\"name\": \"takahashi\", \"age\": 29, \"city\": \"tokyo\"},\n",
    "    {\"name\": \"takaashigani\", \"age\": 100, \"city\": \"suruga\"},\n",
    "]\n",
    "\n",
    "columns = [\n",
    "    {\"key\": \"name\", \"label\": \"名前\", \"filter\": \"select\",\n",
    "     \"options\": sorted(set(r[\"name\"] for r in data))},\n",
    "    {\"key\": \"age\", \"label\": \"年齢\", \"filter\": \"range\"},\n",
    "    {\"key\": \"city\", \"label\": \"都市\", \"filter\": \"select\",\n",
    "     \"options\": sorted(set(r[\"city\"] for r in data))},\n",
    "]\n",
    "\n",
    "# --- Jinja2環境 ---\n",
    "env = Environment(loader=FileSystemLoader(TEMPLATE_DIR, encoding=\"utf-8\"))\n",
    "template = env.get_template(\"table.html\")\n",
    "\n",
    "# --- CSS/JSを読み込み ---\n",
    "embedded_css, embedded_js = load_static_files()\n",
    "\n",
    "# --- HTMLレンダリング ---\n",
    "html = template.render(\n",
    "    title=\"ユーザ一覧\",\n",
    "    columns=columns,\n",
    "    data=data,\n",
    "    embedded_css=embedded_css,\n",
    "    embedded_js=embedded_js,\n",
    ")\n",
    "\n",
    "# --- 出力 ---\n",
    "output_path = OUTPUT_DIR / \"table.html\"\n",
    "output_path.write_text(html, encoding=\"utf-8\")\n",
    "print(f\"✅ 出力完了: {output_path}\")"
   ]
  }
 ],
 "metadata": {
  "kernelspec": {
   "display_name": ".venv",
   "language": "python",
   "name": "python3"
  },
  "language_info": {
   "codemirror_mode": {
    "name": "ipython",
    "version": 3
   },
   "file_extension": ".py",
   "mimetype": "text/x-python",
   "name": "python",
   "nbconvert_exporter": "python",
   "pygments_lexer": "ipython3",
   "version": "3.13.9"
  }
 },
 "nbformat": 4,
 "nbformat_minor": 5
}
