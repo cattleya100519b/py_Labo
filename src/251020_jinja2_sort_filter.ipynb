{
 "cells": [
  {
   "cell_type": "markdown",
   "id": "05ebe5c0",
   "metadata": {},
   "source": [
    "## 要件\n",
    "- 一行目にソートボタン\n",
    "- 二行目にフィルターブロック\n",
    "  - 選択式のドロップダウン\n",
    "  - 値範囲指定の入力ボックス\n",
    "- Pythonからデータを埋め込み"
   ]
  },
  {
   "cell_type": "markdown",
   "id": "c4f1e9f7",
   "metadata": {},
   "source": [
    "<pre>\n",
    "project/  \n",
    "├─ data_to_html.py      ← Pythonスクリプト（Jinja2でHTML生成）  \n",
    "├─ templates/  \n",
    "│   ├─ base_251020.html ← Jinja2テンプレート\n",
    "│   └─ table.html\n",
    "├─ static/  \n",
    "│   ├─ style/  \n",
    "│   │   ├─ table.css  \n",
    "│   │   ├─ filter.css  \n",
    "│   │   └─ sort.css  \n",
    "│   └─ js/  \n",
    "│       └─ table.js  \n",
    "└─ output/\n",
    "     └─ table.html          ← Pythonで生成されるブラウザ用HTML\n",
    "</pre>"
   ]
  },
  {
   "cell_type": "code",
   "execution_count": 5,
   "id": "03507159",
   "metadata": {},
   "outputs": [
    {
     "name": "stdout",
     "output_type": "stream",
     "text": [
      "table.html を生成しました。ブラウザで開けます。\n"
     ]
    }
   ],
   "source": [
    "from jinja2 import Environment, FileSystemLoader\n",
    "\n",
    "# --- データ定義 ---\n",
    "data = [\n",
    "    {\"name\": \"Alice\", \"age\": 25, \"city\": \"Tokyo\"},\n",
    "    {\"name\": \"Bob\", \"age\": 30, \"city\": \"Osaka\"},\n",
    "    {\"name\": \"Charlie\", \"age\": 22, \"city\": \"Nagoya\"},\n",
    "    {\"name\": \"David\", \"age\": 28, \"city\": \"Tokyo\"},\n",
    "]\n",
    "\n",
    "# --- 列情報: filterタイプ、候補値、型 ---\n",
    "columns = [\n",
    "    {\"key\": \"name\", \"label\": \"名前\", \"filter\": \"select\",\n",
    "     \"options\": sorted(set(r[\"name\"] for r in data)), \"type\": \"string\"},\n",
    "    {\"key\": \"age\", \"label\": \"年齢\", \"filter\": \"range\", \"type\": \"number\"},\n",
    "    {\"key\": \"city\", \"label\": \"都市\", \"filter\": \"select\",\n",
    "     \"options\": sorted(set(r[\"city\"] for r in data)), \"type\": \"string\"},\n",
    "]\n",
    "\n",
    "# --- Jinja2テンプレート環境の準備 ---\n",
    "env = Environment(loader=FileSystemLoader(\"templates\"))\n",
    "template = env.get_template(\"table.html\")\n",
    "\n",
    "# --- レンダリングして output.html に書き出す ---\n",
    "html_output = template.render(data=data, columns=columns, title='Sort & Filter')\n",
    "with open(\"output/table.html\", \"w\", encoding=\"utf-8\") as f:\n",
    "    f.write(html_output)\n",
    "\n",
    "print(\"table.html を生成しました。ブラウザで開けます。\")"
   ]
  }
 ],
 "metadata": {
  "kernelspec": {
   "display_name": ".venv",
   "language": "python",
   "name": "python3"
  },
  "language_info": {
   "codemirror_mode": {
    "name": "ipython",
    "version": 3
   },
   "file_extension": ".py",
   "mimetype": "text/x-python",
   "name": "python",
   "nbconvert_exporter": "python",
   "pygments_lexer": "ipython3",
   "version": "3.13.9"
  }
 },
 "nbformat": 4,
 "nbformat_minor": 5
}
