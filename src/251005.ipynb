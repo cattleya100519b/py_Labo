{
 "cells": [
  {
   "cell_type": "markdown",
   "id": "86948021",
   "metadata": {},
   "source": [
    "## Decorator"
   ]
  },
  {
   "cell_type": "markdown",
   "id": "f4ba1f38",
   "metadata": {},
   "source": [
    "### 1. Decorator の原型"
   ]
  },
  {
   "cell_type": "markdown",
   "id": "6346fbf2",
   "metadata": {},
   "source": [
    "- ただの関数コール"
   ]
  },
  {
   "cell_type": "code",
   "execution_count": 5,
   "id": "1ead0007",
   "metadata": {},
   "outputs": [
    {
     "name": "stdout",
     "output_type": "stream",
     "text": [
      "decorateされる\n"
     ]
    }
   ],
   "source": [
    "def f_decorated():\n",
    "    print('decorateされる')\n",
    "\n",
    "f_decorated()"
   ]
  },
  {
   "cell_type": "markdown",
   "id": "c5e75df7",
   "metadata": {},
   "source": [
    "- 関数もオブジェクト"
   ]
  },
  {
   "cell_type": "code",
   "execution_count": 6,
   "id": "641fa039",
   "metadata": {},
   "outputs": [
    {
     "name": "stdout",
     "output_type": "stream",
     "text": [
      "関数オブジェクト\n"
     ]
    }
   ],
   "source": [
    "def object_f():\n",
    "    print('関数オブジェクト')\n",
    "\n",
    "f = object_f\n",
    "f()"
   ]
  },
  {
   "cell_type": "markdown",
   "id": "2b70b1a5",
   "metadata": {},
   "source": [
    "- decorator の原型"
   ]
  },
  {
   "cell_type": "code",
   "execution_count": 7,
   "id": "83ff83c0",
   "metadata": {},
   "outputs": [
    {
     "name": "stdout",
     "output_type": "stream",
     "text": [
      "開始\n",
      "decorateされる\n",
      "終了\n"
     ]
    }
   ],
   "source": [
    "def add_pattern(arg_f):\n",
    "    def pattern():\n",
    "        print('開始')\n",
    "        arg_f()\n",
    "        print('終了')\n",
    "    return pattern\n",
    "\n",
    "f = add_pattern(f_decorated)   # f に pattern が返る\n",
    "f() # 渡された f_decorated は pattern 内で arg_f として呼ばれる"
   ]
  },
  {
   "cell_type": "markdown",
   "id": "d7a07ab2",
   "metadata": {},
   "source": [
    "- one line"
   ]
  },
  {
   "cell_type": "code",
   "execution_count": 8,
   "id": "f81e5f2a",
   "metadata": {},
   "outputs": [
    {
     "name": "stdout",
     "output_type": "stream",
     "text": [
      "開始\n",
      "decorateされる\n",
      "終了\n"
     ]
    }
   ],
   "source": [
    "add_pattern(f_decorated)()"
   ]
  },
  {
   "cell_type": "markdown",
   "id": "4257894c",
   "metadata": {},
   "source": [
    "### 2. Decoratorに変換"
   ]
  },
  {
   "cell_type": "code",
   "execution_count": 9,
   "id": "be87855b",
   "metadata": {},
   "outputs": [
    {
     "name": "stdout",
     "output_type": "stream",
     "text": [
      "開始\n",
      "decorateされる\n",
      "終了\n"
     ]
    }
   ],
   "source": [
    "@add_pattern\n",
    "def f_decorated():\n",
    "    print('decorateされる')\n",
    "\n",
    "f_decorated()"
   ]
  },
  {
   "cell_type": "markdown",
   "id": "e7eb3787",
   "metadata": {},
   "source": [
    "- 引数アリの Wrapper を含んだ Decorator （の原型）"
   ]
  },
  {
   "cell_type": "code",
   "execution_count": 11,
   "id": "775f9714",
   "metadata": {},
   "outputs": [
    {
     "name": "stdout",
     "output_type": "stream",
     "text": [
      "開始\n",
      "decorateされる、引数は Navia\n",
      "終了\n"
     ]
    }
   ],
   "source": [
    "def add_pattern(arg_f):\n",
    "    def pattern(arg):\n",
    "        print('開始')\n",
    "        arg_f(arg)\n",
    "        print('終了')\n",
    "    return pattern\n",
    "\n",
    "def f_decorated(arg):\n",
    "    print(f'decorateされる、引数は {arg}')\n",
    "\n",
    "f = add_pattern(f_decorated)    # f に pattern が返る\n",
    "f('Navia')   # 渡された f_decorated は pattern 内で arg_f として呼ばれ、渡された文字列は arg_f(=f_decorated) に arg として渡る"
   ]
  },
  {
   "cell_type": "markdown",
   "id": "64504dcb",
   "metadata": {},
   "source": [
    "- Decorator へ変換"
   ]
  },
  {
   "cell_type": "code",
   "execution_count": 12,
   "id": "e6caeeee",
   "metadata": {},
   "outputs": [
    {
     "name": "stdout",
     "output_type": "stream",
     "text": [
      "開始\n",
      "decorateされる、引数は Navia\n",
      "終了\n"
     ]
    }
   ],
   "source": [
    "@add_pattern\n",
    "def f_decorated(arg):\n",
    "    print(f'decorateされる、引数は {arg}')\n",
    "\n",
    "f_decorated('Navia')"
   ]
  },
  {
   "cell_type": "markdown",
   "id": "c8ffe45e",
   "metadata": {},
   "source": [
    "### 3. 可変長引数をとる Wrapper で一般化"
   ]
  },
  {
   "cell_type": "code",
   "execution_count": 17,
   "id": "fea78f58",
   "metadata": {},
   "outputs": [
    {
     "name": "stdout",
     "output_type": "stream",
     "text": [
      "開始\n",
      "decorateされる、引数は Navia\n",
      "終了\n",
      "\n",
      "開始\n",
      "decorateされる、引数は ('Navia', 'Skirk')\n",
      "終了\n"
     ]
    }
   ],
   "source": [
    "def add_pattern(arg_f):\n",
    "    def pattern(*args, **kargs):\n",
    "        print('開始')\n",
    "        arg_f(*args, **kargs)\n",
    "        print('終了')\n",
    "    return pattern\n",
    "\n",
    "@add_pattern\n",
    "def f_decorated(arg):\n",
    "    print(f'decorateされる、引数は {arg}')\n",
    "\n",
    "@add_pattern\n",
    "def f_decorated_2(*arg):\n",
    "    print(f'decorateされる、引数は {arg}')\n",
    "\n",
    "f_decorated('Navia')\n",
    "print()\n",
    "f_decorated_2('Navia', 'Skirk')"
   ]
  },
  {
   "cell_type": "markdown",
   "id": "96e721fb",
   "metadata": {},
   "source": [
    "### 4. Wrapper 内で値を返す"
   ]
  },
  {
   "cell_type": "code",
   "execution_count": 21,
   "id": "c63aa6b9",
   "metadata": {},
   "outputs": [
    {
     "name": "stdout",
     "output_type": "stream",
     "text": [
      "開始\n",
      "decorateされる、引数は ('Navia', 'Skirk')\n",
      "終了\n",
      "NaviaC6\n"
     ]
    }
   ],
   "source": [
    "def add_pattern(arg_f):\n",
    "    def pattern(*args, **kargs):\n",
    "        print('開始')\n",
    "        result = arg_f(*args, **kargs)\n",
    "        print('終了')\n",
    "        return result\n",
    "    return pattern\n",
    "\n",
    "@add_pattern\n",
    "def f_decorated(*arg):\n",
    "    print(f'decorateされる、引数は {arg}')\n",
    "    return arg[0]+'C6'\n",
    "\n",
    "print(f_decorated('Navia', 'Skirk'))"
   ]
  }
 ],
 "metadata": {
  "kernelspec": {
   "display_name": ".venv",
   "language": "python",
   "name": "python3"
  },
  "language_info": {
   "codemirror_mode": {
    "name": "ipython",
    "version": 3
   },
   "file_extension": ".py",
   "mimetype": "text/x-python",
   "name": "python",
   "nbconvert_exporter": "python",
   "pygments_lexer": "ipython3",
   "version": "3.13.7"
  }
 },
 "nbformat": 4,
 "nbformat_minor": 5
}
